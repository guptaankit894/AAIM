{
  "nbformat": 4,
  "nbformat_minor": 0,
  "metadata": {
    "colab": {
      "provenance": [],
      "gpuType": "V28",
      "authorship_tag": "ABX9TyNZxFybvWWNcsGiVfZhbogh",
      "include_colab_link": true
    },
    "kernelspec": {
      "name": "python3",
      "display_name": "Python 3"
    },
    "language_info": {
      "name": "python"
    },
    "accelerator": "TPU"
  },
  "cells": [
    {
      "cell_type": "markdown",
      "metadata": {
        "id": "view-in-github",
        "colab_type": "text"
      },
      "source": [
        "<a href=\"https://colab.research.google.com/github/guptaankit894/AAIM/blob/main/google_colab_files/machine_learning_algorithms.ipynb\" target=\"_parent\"><img src=\"https://colab.research.google.com/assets/colab-badge.svg\" alt=\"Open In Colab\"/></a>"
      ]
    },
    {
      "cell_type": "markdown",
      "source": [
        "**Programming Exercise**\n",
        "\n",
        "This Exercise will provide a gist of various machine learning methods. It will follow the same order as in slides.\n",
        "\n",
        "1. Supervised Learning Methods (Decision Tree, Random Forest, k-Nearest Neighbour, and Support Vector Machines).\n",
        "\n",
        "2. Semi Suspervised Methods (Support Vector Machines).\n",
        "\n",
        "3. Unsupervised Methods (k-means clustering).\n",
        "\n",
        "4. Regression"
      ],
      "metadata": {
        "id": "WqioPc63FWwS"
      }
    },
    {
      "cell_type": "markdown",
      "source": [
        "**A customized Function**\n",
        "\n",
        "First let's create a customized function, which allows you to visualize the decision boundary. For doing so, we will only use two features, and labels instead of all features. This function will require following  libraries **Matplotlib.pyplot**, **sklearn**, and **numpy**.  "
      ],
      "metadata": {
        "id": "RJDehF2GHGyw"
      }
    },
    {
      "cell_type": "code",
      "source": [
        "from sklearn.inspection import DecisionBoundaryDisplay\n",
        "import matplotlib.pyplot as plt\n",
        "import numpy as np\n",
        "\n",
        "# few parameters for plotting\n",
        "plot_colors=\"ryb\" # Red, yellow, blue\n",
        "\n",
        "\n",
        "def plot_decision_boundary(clf, X, y, ax, xlabel, ylabel, n_classes, labels, plot_colors):\n",
        "  DecisionBoundaryDisplay.from_estimator(\n",
        "        clf,\n",
        "        X,\n",
        "        cmap=plt.cm.RdYlBu,\n",
        "        response_method=\"predict\",\n",
        "        ax=ax,\n",
        "        xlabel=xlabel,\n",
        "        ylabel=ylabel,\n",
        "    )\n",
        "  # Plot the training points\n",
        "  for i, color in zip(range(n_classes), plot_colors):\n",
        "    idx = np.where(y == i)\n",
        "    plt.scatter(X[idx, 0], X[idx, 1], c=color, label=labels[i],edgecolor=\"black\",s=15)"
      ],
      "metadata": {
        "id": "06OpngSSLPtE"
      },
      "execution_count": null,
      "outputs": []
    },
    {
      "cell_type": "code",
      "source": [
        "# load dataset, and split data for classification\n",
        "from sklearn.datasets import load_iris  # use only 2 features (1:3)\n",
        "from sklearn.model_selection import train_test_split\n",
        "from sklearn.metrics import accuracy_score  # performance metric for classification\n",
        "iris=load_iris()\n",
        "X = iris.data[:, 1:3]\n",
        "y = iris.target\n",
        "pair=[1,3]\n",
        "X_train, X_test, Y_train, Y_test=train_test_split(X,y, test_size=0.3)"
      ],
      "metadata": {
        "id": "tSYdre-5L13Y"
      },
      "execution_count": null,
      "outputs": []
    },
    {
      "cell_type": "markdown",
      "source": [
        "**Decision Trees**"
      ],
      "metadata": {
        "id": "Vqgg2a1yMVQJ"
      }
    },
    {
      "cell_type": "code",
      "source": [
        "from sklearn.tree import DecisionTreeClassifier\n",
        "from sklearn import tree\n",
        "model = DecisionTreeClassifier()\n",
        "model.fit(X_train, Y_train)\n",
        "\n",
        "ax=plt.subplot(1,1,1)\n",
        "\n",
        "xlabel=iris.feature_names[pair[0]],\n",
        "ylabel=iris.feature_names[pair[1]],\n",
        "\n",
        "\n",
        "plot_decision_boundary(model, X_test, Y_test, ax,xlabel, ylabel, 3, iris.target_names, plot_colors)"
      ],
      "metadata": {
        "id": "qxJKq2_bMnx1"
      },
      "execution_count": null,
      "outputs": []
    },
    {
      "cell_type": "code",
      "source": [
        "accuracy_score(model.predict(X_test), Y_test)"
      ],
      "metadata": {
        "id": "b6d3G9GsTKaI"
      },
      "execution_count": null,
      "outputs": []
    },
    {
      "cell_type": "code",
      "source": [
        "from sklearn import metrics\n",
        "confusion_matrix = metrics.confusion_matrix(Y_test, model.predict(X_test))\n",
        "\n",
        "cm_display = metrics.ConfusionMatrixDisplay(confusion_matrix = confusion_matrix, display_labels = [0, 1, 2])\n",
        "\n",
        "cm_display.plot()\n",
        "plt.show()"
      ],
      "metadata": {
        "id": "FzJw_UbNxn8o"
      },
      "execution_count": null,
      "outputs": []
    },
    {
      "cell_type": "code",
      "source": [
        "# Plot tree\n",
        "plt.figure(figsize=(20, 20))\n",
        "tree.plot_tree(model, feature_names=iris.feature_names, fontsize=14)"
      ],
      "metadata": {
        "id": "SRipnqOGRzR9"
      },
      "execution_count": null,
      "outputs": []
    },
    {
      "cell_type": "markdown",
      "source": [
        "**Random Forest**"
      ],
      "metadata": {
        "id": "d8K2QMvqSAil"
      }
    },
    {
      "cell_type": "code",
      "source": [
        "from sklearn.ensemble import RandomForestClassifier\n",
        "from sklearn import tree\n",
        "model = RandomForestClassifier()\n",
        "model.fit(X_train, Y_train)\n",
        "\n",
        "ax=plt.subplot(1,1,1)\n",
        "pair=[1,3]\n",
        "xlabel=iris.feature_names[pair[0]],\n",
        "ylabel=iris.feature_names[pair[1]],\n",
        "\n",
        "\n",
        "plot_decision_boundary(model, X_test, Y_test, ax,xlabel, ylabel, 3, iris.target_names, plot_colors)"
      ],
      "metadata": {
        "id": "3nWMZMlfRncg"
      },
      "execution_count": null,
      "outputs": []
    },
    {
      "cell_type": "code",
      "source": [
        "# Tree plotting\n",
        "plt.figure(figsize=(20,20))\n",
        "tree.plot_tree(model.estimators_[0])"
      ],
      "metadata": {
        "id": "vWSZu03aSh_6"
      },
      "execution_count": null,
      "outputs": []
    },
    {
      "cell_type": "markdown",
      "source": [
        "**k-Nearest Neigbour**"
      ],
      "metadata": {
        "id": "twATjdgHTY7J"
      }
    },
    {
      "cell_type": "code",
      "source": [
        "from sklearn.neighbors import KNeighborsClassifier\n",
        "model=KNeighborsClassifier(3)\n",
        "model.fit(X_train,Y_train)\n",
        "\n",
        "ax=plt.subplot(1,1,1)\n",
        "pair=[1,3]\n",
        "xlabel=iris.feature_names[pair[0]],\n",
        "ylabel=iris.feature_names[pair[1]],\n",
        "\n",
        "\n",
        "plot_decision_boundary(model, X_test, Y_test, ax,xlabel, ylabel, 3, iris.target_names, plot_colors)"
      ],
      "metadata": {
        "id": "UeuL0-7VDM-D"
      },
      "execution_count": null,
      "outputs": []
    },
    {
      "cell_type": "code",
      "source": [
        "accuracy_score(model.predict(X_test), Y_test)"
      ],
      "metadata": {
        "id": "YMZ1Ye3EUGxw"
      },
      "execution_count": null,
      "outputs": []
    },
    {
      "cell_type": "markdown",
      "source": [
        "**Naive Bayes**"
      ],
      "metadata": {
        "id": "bUyymj3AUPxb"
      }
    },
    {
      "cell_type": "code",
      "source": [
        "from sklearn.naive_bayes import GaussianNB\n",
        "model=GaussianNB()\n",
        "\n",
        "model.fit(X_train, Y_train)\n",
        "\n",
        "ax=plt.subplot(1,1,1)\n",
        "pair=[1,3]\n",
        "xlabel=iris.feature_names[pair[0]],\n",
        "ylabel=iris.feature_names[pair[1]],\n",
        "\n",
        "\n",
        "plot_decision_boundary(model, X_test, Y_test, ax,xlabel, ylabel, 3, iris.target_names, plot_colors)"
      ],
      "metadata": {
        "id": "kDUEVT4_UUDo"
      },
      "execution_count": null,
      "outputs": []
    },
    {
      "cell_type": "code",
      "source": [
        "accuracy_score(model.predict(X_test),Y_test)"
      ],
      "metadata": {
        "id": "AXwcExf0UZaL"
      },
      "execution_count": null,
      "outputs": []
    },
    {
      "cell_type": "markdown",
      "source": [
        "**Semi-supervised Learning**\n",
        "SVM using linear kernel"
      ],
      "metadata": {
        "id": "UfNLjF93UkYE"
      }
    },
    {
      "cell_type": "code",
      "source": [
        "from sklearn import svm\n",
        "model=svm.SVC()  # when no kernel is specified, we are using linear SVM\n",
        "model.fit(X_train, Y_train)\n",
        "\n",
        "ax=plt.subplot(1,1,1)\n",
        "pair=[1,3]\n",
        "xlabel=iris.feature_names[pair[0]],\n",
        "ylabel=iris.feature_names[pair[1]],\n",
        "\n",
        "\n",
        "plot_decision_boundary(model, X_test, Y_test, ax,xlabel, ylabel, 3, iris.target_names, plot_colors)"
      ],
      "metadata": {
        "id": "u1Nqp2vnUc7Z"
      },
      "execution_count": null,
      "outputs": []
    },
    {
      "cell_type": "code",
      "source": [
        "accuracy_score(model.predict(X_test),Y_test)"
      ],
      "metadata": {
        "id": "8sehITecVr2C"
      },
      "execution_count": null,
      "outputs": []
    },
    {
      "cell_type": "markdown",
      "source": [
        "**Unsupervised Learning**\n",
        "k-means clustering"
      ],
      "metadata": {
        "id": "x8QR-zwlVB-c"
      }
    },
    {
      "cell_type": "code",
      "source": [
        "from sklearn.cluster import KMeans\n",
        "model=KMeans(3)\n",
        "model.fit(X_train)\n",
        "\n",
        "ax=plt.subplot(1,1,1)\n",
        "pair=[1,3]\n",
        "xlabel=iris.feature_names[pair[0]],\n",
        "ylabel=iris.feature_names[pair[1]],\n",
        "\n",
        "\n",
        "plot_decision_boundary(model, X_test, Y_test, ax,xlabel, ylabel, 3, iris.target_names, plot_colors)"
      ],
      "metadata": {
        "id": "0dWxWGfEUyrw"
      },
      "execution_count": null,
      "outputs": []
    },
    {
      "cell_type": "markdown",
      "source": [
        "**Regression Task**\n",
        "\n",
        "For regression Task, we will use R-squared **(Coefficient of Determination)**, and **housing dataset** for prediction.\n",
        "\n",
        "For plotting the fitting line, we will use seaborn library. You can install it using the following pip command:\n",
        "\n",
        "**pip install seaborn**"
      ],
      "metadata": {
        "id": "IHyFyer4Vd6b"
      }
    },
    {
      "cell_type": "markdown",
      "source": [
        "**Linear Regression**"
      ],
      "metadata": {
        "id": "oMFFJ5s_iam4"
      }
    },
    {
      "cell_type": "code",
      "source": [
        "from sklearn.datasets import load_diabetes\n",
        "from sklearn.linear_model import LinearRegression\n",
        "import seaborn as sns\n",
        "from sklearn.metrics import r2_score # Performance metric for regression\n",
        "diabetes=load_diabetes()\n",
        "X = diabetes.data[:,2]\n",
        "y = diabetes.target\n",
        "\n",
        "X_train, X_test, Y_train, Y_test=train_test_split(X,y, test_size=0.3)\n",
        "X_train=X_train.reshape(-1,1)\n",
        "X_test=X_test.reshape(-1,1)"
      ],
      "metadata": {
        "id": "Jt6pF_vJVYp2"
      },
      "execution_count": null,
      "outputs": []
    },
    {
      "cell_type": "code",
      "source": [
        "model=LinearRegression()\n",
        "model.fit(X_train, Y_train)\n",
        "y_pred = model.predict(X_test)\n"
      ],
      "metadata": {
        "id": "g3QaQH1octWy"
      },
      "execution_count": null,
      "outputs": []
    },
    {
      "cell_type": "code",
      "source": [
        "plt.scatter(X_test, Y_test, color=\"black\")\n",
        "plt.plot(X_test, y_pred, color=\"blue\", linewidth=3)"
      ],
      "metadata": {
        "id": "iBsyObAne6y7"
      },
      "execution_count": null,
      "outputs": []
    },
    {
      "cell_type": "code",
      "source": [
        "r2_score(y_pred, Y_test)"
      ],
      "metadata": {
        "id": "I6UX_mIDrT2z"
      },
      "execution_count": null,
      "outputs": []
    },
    {
      "cell_type": "markdown",
      "source": [
        "**Polynomial Regression**\n",
        "\n",
        "For this we need to use a function  **PolynomialFeatures** from **sklearn.preprocessing**"
      ],
      "metadata": {
        "id": "ybhi_Es0ifet"
      }
    },
    {
      "cell_type": "code",
      "source": [
        "from sklearn.datasets import load_diabetes\n",
        "from sklearn.linear_model import LinearRegression\n",
        "from sklearn.preprocessing import PolynomialFeatures\n",
        "from sklearn.metrics import r2_score # Performance metric for regression\n",
        "diabetes=load_diabetes()\n",
        "X = diabetes.data[:,3]\n",
        "y = diabetes.target\n",
        "\n",
        "X_train, X_test, Y_train, Y_test=train_test_split(X,y, test_size=0.3)\n",
        "X_train=X_train.reshape(-1,1)\n",
        "X_test=X_test.reshape(-1,1)"
      ],
      "metadata": {
        "id": "Wdt44A0klCxp"
      },
      "execution_count": null,
      "outputs": []
    },
    {
      "cell_type": "code",
      "source": [
        "poly = PolynomialFeatures(degree=2, include_bias=False)"
      ],
      "metadata": {
        "id": "fGCYCMkai683"
      },
      "execution_count": null,
      "outputs": []
    },
    {
      "cell_type": "code",
      "source": [
        "poly_X_train = poly.fit_transform(X_train.reshape(-1, 1))\n",
        "poly_X_test = poly.fit_transform(X_test.reshape(-1, 1))"
      ],
      "metadata": {
        "id": "ExLAKCiSi_3S"
      },
      "execution_count": null,
      "outputs": []
    },
    {
      "cell_type": "code",
      "source": [
        "model=LinearRegression()\n",
        "model.fit(poly_X_train, Y_train)\n",
        "y_pred=model.predict(poly_X_test)"
      ],
      "metadata": {
        "id": "9q9rmAl_jLga"
      },
      "execution_count": null,
      "outputs": []
    },
    {
      "cell_type": "code",
      "source": [
        "plt.scatter(X_test[10:20], Y_test[10:20], color=\"black\")\n",
        "plt.plot(X_test[10:20], y_pred[10:20], color=\"blue\", linewidth=3)"
      ],
      "metadata": {
        "id": "9GXs1E0FjVwQ"
      },
      "execution_count": null,
      "outputs": []
    },
    {
      "cell_type": "code",
      "source": [
        "r2_score(y_pred, Y_test)"
      ],
      "metadata": {
        "id": "QAdRbglntLKw"
      },
      "execution_count": null,
      "outputs": []
    },
    {
      "cell_type": "code",
      "source": [],
      "metadata": {
        "id": "BPKFvmW1uBN-"
      },
      "execution_count": null,
      "outputs": []
    }
  ]
}